{
 "cells": [
  {
   "cell_type": "code",
   "execution_count": 1,
   "id": "02be0a9c",
   "metadata": {},
   "outputs": [],
   "source": [
    "import numpy as np"
   ]
  },
  {
   "cell_type": "code",
   "execution_count": 2,
   "id": "ee5cf620",
   "metadata": {},
   "outputs": [],
   "source": [
    "from qiskit import QuantumCircuit"
   ]
  },
  {
   "cell_type": "code",
   "execution_count": 3,
   "id": "fe793c7b",
   "metadata": {},
   "outputs": [],
   "source": [
    "from qiskit import Aer"
   ]
  },
  {
   "cell_type": "code",
   "execution_count": 4,
   "id": "9deed8d8",
   "metadata": {},
   "outputs": [],
   "source": [
    "from qiskit.tools.visualization import plot_histogram, plot_state_city"
   ]
  },
  {
   "cell_type": "code",
   "execution_count": 5,
   "id": "74a19780",
   "metadata": {},
   "outputs": [
    {
     "data": {
      "text/plain": [
       "[AerSimulator('aer_simulator'),\n",
       " AerSimulator('aer_simulator_statevector'),\n",
       " AerSimulator('aer_simulator_density_matrix'),\n",
       " AerSimulator('aer_simulator_stabilizer'),\n",
       " AerSimulator('aer_simulator_matrix_product_state'),\n",
       " AerSimulator('aer_simulator_extended_stabilizer'),\n",
       " AerSimulator('aer_simulator_unitary'),\n",
       " AerSimulator('aer_simulator_superop'),\n",
       " QasmSimulator('qasm_simulator'),\n",
       " StatevectorSimulator('statevector_simulator'),\n",
       " UnitarySimulator('unitary_simulator'),\n",
       " PulseSimulator('pulse_simulator')]"
      ]
     },
     "execution_count": 5,
     "metadata": {},
     "output_type": "execute_result"
    }
   ],
   "source": [
    "Aer.backends()"
   ]
  },
  {
   "cell_type": "code",
   "execution_count": 6,
   "id": "38b939b9",
   "metadata": {},
   "outputs": [],
   "source": [
    "simulator=Aer.get_backend('aer_simulator')"
   ]
  },
  {
   "cell_type": "code",
   "execution_count": 7,
   "id": "331eb3fe",
   "metadata": {},
   "outputs": [],
   "source": [
    "from qiskit.circuit.random import random_circuit"
   ]
  },
  {
   "cell_type": "code",
   "execution_count": 8,
   "id": "4435152f",
   "metadata": {},
   "outputs": [],
   "source": [
    "qc=[random_circuit(num_qubits=3, depth=4, measure=True) for _ in range(1,11)]"
   ]
  },
  {
   "cell_type": "code",
   "execution_count": 9,
   "id": "61620465",
   "metadata": {},
   "outputs": [],
   "source": [
    "from qiskit import transpile"
   ]
  },
  {
   "cell_type": "code",
   "execution_count": 10,
   "id": "ae8298b4",
   "metadata": {},
   "outputs": [],
   "source": [
    "qc=transpile(qc, simulator)"
   ]
  },
  {
   "cell_type": "code",
   "execution_count": 11,
   "id": "b0204a3e",
   "metadata": {},
   "outputs": [],
   "source": [
    "result=simulator.run(qc).result()"
   ]
  },
  {
   "cell_type": "code",
   "execution_count": 12,
   "id": "875479b2",
   "metadata": {},
   "outputs": [],
   "source": [
    "counts=result.get_counts(qc[0])"
   ]
  },
  {
   "cell_type": "code",
   "execution_count": 13,
   "id": "2dad1e33",
   "metadata": {},
   "outputs": [
    {
     "data": {
      "image/png": "[encoded data removed]",
      "text/plain": [
       "<Figure size 504x360 with 1 Axes>"
      ]
     },
     "execution_count": 13,
     "metadata": {},
     "output_type": "execute_result"
    }
   ],
   "source": [
    "plot_histogram(counts, title=\"Bell State counts\")"
   ]
  },
  {
   "cell_type": "code",
   "execution_count": null,
   "id": "c5ed2cfd",
   "metadata": {},
   "outputs": [],
   "source": [
    "######################################################################################################"
   ]
  },
  {
   "cell_type": "code",
   "execution_count": 14,
   "id": "d9751cd2",
   "metadata": {},
   "outputs": [],
   "source": [
    "from dask_kubernetes import KubeCluster"
   ]
  },
  {
   "cell_type": "code",
   "execution_count": 15,
   "id": "0af03c12",
   "metadata": {},
   "outputs": [
    {
     "name": "stdout",
     "output_type": "stream",
     "text": [
      "# worker-spec.yml\r\n",
      "\r\n",
      "kind: Pod\r\n",
      "metadata:\r\n",
      "  labels:\r\n",
      "    foo: bar\r\n",
      "spec:\r\n",
      "  restartPolicy: Never\r\n",
      "  containers:\r\n",
      "  - image: daskdev/dask:latest\r\n",
      "    imagePullPolicy: IfNotPresent\r\n",
      "    args: [dask-worker, --nthreads, '1', --no-dashboard, --memory-limit, 1G, --death-timeout, '60']\r\n",
      "    name: dask\r\n",
      "    env:\r\n",
      "      - name: EXTRA_PIP_PACKAGES\r\n",
      "        value: git+https://github.com/dask/distributed\r\n",
      "    resources:\r\n",
      "      limits:\r\n",
      "        cpu: \"1\"\r\n",
      "        memory: 1G\r\n",
      "      requests:\r\n",
      "        cpu: \"1\"\r\n",
      "        memory: 1G\r\n"
     ]
    }
   ],
   "source": [
    "!cat ./worker-spec.yml"
   ]
  },
  {
   "cell_type": "code",
   "execution_count": 16,
   "id": "33b80b64",
   "metadata": {},
   "outputs": [
    {
     "name": "stdout",
     "output_type": "stream",
     "text": [
      "Creating scheduler pod on cluster. This may take some time.\n",
      "Forwarding from 127.0.0.1:64978 -> 8786\n",
      "Forwarding from [::1]:64978 -> 8786\n",
      "Handling connection for 64978\n",
      "Handling connection for 64978\n",
      "Handling connection for 64978\n"
     ]
    },
    {
     "name": "stderr",
     "output_type": "stream",
     "text": [
      "/home/red/.local/lib/python3.9/site-packages/distributed/client.py:1100: VersionMismatchWarning: Mismatched versions found\n",
      "\n",
      "+-------------+-----------+------------------------+---------+\n",
      "| Package     | client    | scheduler              | workers |\n",
      "+-------------+-----------+------------------------+---------+\n",
      "| blosc       | None      | 1.10.2                 | None    |\n",
      "| cloudpickle | 2.0.0     | 1.6.0                  | None    |\n",
      "| distributed | 2021.09.0 | 2021.09.0+18.g05677bb2 | None    |\n",
      "| lz4         | None      | 3.1.3                  | None    |\n",
      "+-------------+-----------+------------------------+---------+\n",
      "  warnings.warn(version_module.VersionMismatchWarning(msg[0][\"warning\"]))\n"
     ]
    }
   ],
   "source": [
    "cluster_kube = KubeCluster('worker-spec.yml')"
   ]
  },
  {
   "cell_type": "code",
   "execution_count": 17,
   "id": "01e7d247",
   "metadata": {},
   "outputs": [
    {
     "name": "stdout",
     "output_type": "stream",
     "text": [
      "Handling connection for 64978\n"
     ]
    },
    {
     "data": {
      "text/html": [
       "\n",
       "    <details>\n",
       "    <summary style='display:list-item'>Cluster</summary>\n",
       "    \n",
       "    \n",
       "        <p style=\"font-family: monospace; margin: 0;\">Creating scheduler pod on cluster. This may take some time.</p>\n",
       "    \n",
       "\n",
       "    </details>\n",
       "\n",
       "    <details>\n",
       "    <summary style='display:list-item'>Scheduler</summary>\n",
       "    \n",
       "    \n",
       "        <p style=\"font-family: monospace; margin: 0;\">distributed.scheduler - INFO - -----------------------------------------------</p>\n",
       "    \n",
       "\n",
       "    \n",
       "        <p style=\"font-family: monospace; margin: 0;\">distributed.scheduler - INFO - Clear task state</p>\n",
       "    \n",
       "\n",
       "    \n",
       "        <p style=\"font-family: monospace; margin: 0;\">distributed.scheduler - INFO -   Scheduler at:     tcp://172.17.0.3:8786</p>\n",
       "    \n",
       "\n",
       "    \n",
       "        <p style=\"font-family: monospace; margin: 0;\">distributed.scheduler - INFO -   dashboard at:                     :8787</p>\n",
       "    \n",
       "\n",
       "    \n",
       "        <p style=\"font-family: monospace; margin: 0;\">distributed.scheduler - INFO - Receive client connection: Client-ba999591-1751-11ec-9a51-a09f10d41eae</p>\n",
       "    \n",
       "\n",
       "    \n",
       "        <p style=\"font-family: monospace; margin: 0;\">distributed.scheduler - INFO - Remove client Client-ba999591-1751-11ec-9a51-a09f10d41eae</p>\n",
       "    \n",
       "\n",
       "    \n",
       "        <p style=\"font-family: monospace; margin: 0;\">distributed.scheduler - INFO - Remove client Client-ba999591-1751-11ec-9a51-a09f10d41eae</p>\n",
       "    \n",
       "\n",
       "    \n",
       "        <p style=\"font-family: monospace; margin: 0;\">distributed.scheduler - INFO - Close client connection: Client-ba999591-1751-11ec-9a51-a09f10d41eae</p>\n",
       "    \n",
       "\n",
       "    </details>\n"
      ],
      "text/plain": [
       "{'Cluster': 'Creating scheduler pod on cluster. This may take some time.',\n",
       " 'Scheduler': 'distributed.scheduler - INFO - -----------------------------------------------\\ndistributed.scheduler - INFO - Clear task state\\ndistributed.scheduler - INFO -   Scheduler at:     tcp://172.17.0.3:8786\\ndistributed.scheduler - INFO -   dashboard at:                     :8787\\ndistributed.scheduler - INFO - Receive client connection: Client-ba999591-1751-11ec-9a51-a09f10d41eae\\ndistributed.scheduler - INFO - Remove client Client-ba999591-1751-11ec-9a51-a09f10d41eae\\ndistributed.scheduler - INFO - Remove client Client-ba999591-1751-11ec-9a51-a09f10d41eae\\ndistributed.scheduler - INFO - Close client connection: Client-ba999591-1751-11ec-9a51-a09f10d41eae'}"
      ]
     },
     "execution_count": 17,
     "metadata": {},
     "output_type": "execute_result"
    }
   ],
   "source": [
    "cluster_kube.get_logs()"
   ]
  },
  {
   "cell_type": "code",
   "execution_count": null,
   "id": "700157b4",
   "metadata": {},
   "outputs": [],
   "source": [
    "####   It dosen't run after this so moving on to next ways of running Aer"
   ]
  },
  {
   "cell_type": "code",
   "execution_count": null,
   "id": "38d01333",
   "metadata": {},
   "outputs": [],
   "source": [
    "from dask.distributed import Client"
   ]
  },
  {
   "cell_type": "code",
   "execution_count": null,
   "id": "eeda190c",
   "metadata": {},
   "outputs": [],
   "source": [
    "client_kube = Client(cluster_kube)"
   ]
  },
  {
   "cell_type": "code",
   "execution_count": null,
   "id": "52ec86d8",
   "metadata": {},
   "outputs": [],
   "source": [
    "qbackend = Aer.get_backend('qasm_simulator')"
   ]
  },
  {
   "cell_type": "code",
   "execution_count": null,
   "id": "59651952",
   "metadata": {},
   "outputs": [],
   "source": [
    "from qiskit import execute"
   ]
  },
  {
   "cell_type": "code",
   "execution_count": null,
   "id": "bbf36174",
   "metadata": {},
   "outputs": [],
   "source": [
    "result_ideal = execute(qc, qbackend, executor=client_kube).result()"
   ]
  },
  {
   "cell_type": "code",
   "execution_count": null,
   "id": "fa56d312",
   "metadata": {},
   "outputs": [],
   "source": [
    "counts=result.get_counts(qc[0])"
   ]
  },
  {
   "cell_type": "code",
   "execution_count": null,
   "id": "8fe3a0df",
   "metadata": {},
   "outputs": [],
   "source": [
    "plot_histogram(counts, title=\"Bell State counts\")"
   ]
  },
  {
   "cell_type": "code",
   "execution_count": null,
   "id": "4d9c50ab",
   "metadata": {},
   "outputs": [],
   "source": []
  },
  {
   "cell_type": "code",
   "execution_count": null,
   "id": "fa4d957c",
   "metadata": {},
   "outputs": [],
   "source": [
    "client_kube.close()"
   ]
  },
  {
   "cell_type": "code",
   "execution_count": null,
   "id": "671fa97a",
   "metadata": {},
   "outputs": [],
   "source": [
    "cluster_kube.close()"
   ]
  },
  {
   "cell_type": "code",
   "execution_count": null,
   "id": "384f9e60",
   "metadata": {},
   "outputs": [],
   "source": []
  },
  {
   "cell_type": "code",
   "execution_count": null,
   "id": "2fc1a0c6",
   "metadata": {},
   "outputs": [],
   "source": [
    "##################################################################################################"
   ]
  },
  {
   "cell_type": "code",
   "execution_count": null,
   "id": "20c4ad6c",
   "metadata": {},
   "outputs": [],
   "source": []
  },
  {
   "cell_type": "code",
   "execution_count": null,
   "id": "0bad3b20",
   "metadata": {},
   "outputs": [],
   "source": []
  },
  {
   "cell_type": "code",
   "execution_count": 18,
   "id": "f9ddc7cf",
   "metadata": {},
   "outputs": [],
   "source": [
    "from concurrent.futures import ThreadPoolExecutor"
   ]
  },
  {
   "cell_type": "code",
   "execution_count": 19,
   "id": "6bfc9cbf",
   "metadata": {},
   "outputs": [],
   "source": [
    "exc_threadpool = ThreadPoolExecutor(max_workers=2)"
   ]
  },
  {
   "cell_type": "code",
   "execution_count": 20,
   "id": "eddbf517",
   "metadata": {},
   "outputs": [
    {
     "data": {
      "text/plain": [
       "<concurrent.futures.thread.ThreadPoolExecutor at 0x7fcffb7d41c0>"
      ]
     },
     "execution_count": 20,
     "metadata": {},
     "output_type": "execute_result"
    }
   ],
   "source": [
    "exc_threadpool"
   ]
  },
  {
   "cell_type": "code",
   "execution_count": 21,
   "id": "fc94352c",
   "metadata": {},
   "outputs": [],
   "source": [
    "qbackend = Aer.get_backend('qasm_simulator')"
   ]
  },
  {
   "cell_type": "code",
   "execution_count": 22,
   "id": "15a6ebd6",
   "metadata": {},
   "outputs": [],
   "source": [
    "from qiskit import execute"
   ]
  },
  {
   "cell_type": "code",
   "execution_count": 23,
   "id": "a64f3a05",
   "metadata": {},
   "outputs": [],
   "source": [
    "result_ideal = execute(qc, qbackend, executor=exc_threadpool).result()"
   ]
  },
  {
   "cell_type": "code",
   "execution_count": 24,
   "id": "248d116f",
   "metadata": {},
   "outputs": [],
   "source": [
    "counts=result.get_counts(qc[0])"
   ]
  },
  {
   "cell_type": "code",
   "execution_count": 25,
   "id": "7418464a",
   "metadata": {},
   "outputs": [
    {
     "data": {
      "image/png": "[encoded data removed]",
      "text/plain": [
       "<Figure size 504x360 with 1 Axes>"
      ]
     },
     "execution_count": 25,
     "metadata": {},
     "output_type": "execute_result"
    }
   ],
   "source": [
    "plot_histogram(counts, title=\"Bell State counts\")"
   ]
  },
  {
   "cell_type": "code",
   "execution_count": null,
   "id": "6bd446fd",
   "metadata": {},
   "outputs": [],
   "source": []
  },
  {
   "cell_type": "code",
   "execution_count": null,
   "id": "4deb5180",
   "metadata": {},
   "outputs": [],
   "source": [
    "##################################################################################################"
   ]
  },
  {
   "cell_type": "code",
   "execution_count": null,
   "id": "f6523307",
   "metadata": {},
   "outputs": [],
   "source": []
  },
  {
   "cell_type": "code",
   "execution_count": null,
   "id": "4af4edef",
   "metadata": {},
   "outputs": [],
   "source": []
  },
  {
   "cell_type": "code",
   "execution_count": 26,
   "id": "32f444d6",
   "metadata": {},
   "outputs": [],
   "source": [
    "from dask.distributed import Client"
   ]
  },
  {
   "cell_type": "code",
   "execution_count": 27,
   "id": "43df44dc",
   "metadata": {},
   "outputs": [],
   "source": [
    "from dask.distributed import LocalCluster"
   ]
  },
  {
   "cell_type": "code",
   "execution_count": 28,
   "id": "159b7d71",
   "metadata": {},
   "outputs": [],
   "source": [
    "local_cluster_1=LocalCluster(n_workers=1, processes=True)"
   ]
  },
  {
   "cell_type": "code",
   "execution_count": 29,
   "id": "e239526e",
   "metadata": {},
   "outputs": [
    {
     "data": {
      "application/vnd.jupyter.widget-view+json": {
       "model_id": "ab60952274364dee8416e00c4e5308ca",
       "version_major": 2,
       "version_minor": 0
      },
      "text/plain": [
       "Tab(children=(HTML(value='<div class=\"jp-RenderedHTMLCommon jp-RenderedHTML jp-mod-trusted jp-OutputArea-outpu…"
      ]
     },
     "metadata": {},
     "output_type": "display_data"
    }
   ],
   "source": [
    "local_cluster_1"
   ]
  },
  {
   "cell_type": "code",
   "execution_count": 30,
   "id": "ebf1e7b6",
   "metadata": {},
   "outputs": [],
   "source": [
    "client_localcluster = Client(address=local_cluster_1)"
   ]
  },
  {
   "cell_type": "code",
   "execution_count": 31,
   "id": "4d1c383d",
   "metadata": {},
   "outputs": [
    {
     "data": {
      "text/html": [
       "<div>\n",
       "    <div style=\"width: 24px; height: 24px; background-color: #e1e1e1; border: 3px solid #9D9D9D; border-radius: 5px; position: absolute;\"> </div>\n",
       "    <div style=\"margin-left: 48px;\">\n",
       "        <h3 style=\"margin-bottom: 0px;\">Client</h3>\n",
       "        <p style=\"color: #9D9D9D; margin-bottom: 0px;\">Client-d90ba300-1751-11ec-9a51-a09f10d41eae</p>\n",
       "        <table style=\"width: 100%; text-align: left;\">\n",
       "\n",
       "        <tr>\n",
       "        \n",
       "            <td style=\"text-align: left;\"><strong>Connection method:</strong> Cluster object</td>\n",
       "            <td style=\"text-align: left;\"><strong>Cluster type:</strong> distributed.LocalCluster</td>\n",
       "        \n",
       "        </tr>\n",
       "\n",
       "        \n",
       "            <tr>\n",
       "                <td style=\"text-align: left;\">\n",
       "                    <strong>Dashboard: </strong> <a href=\"http://127.0.0.1:8787/status\" target=\"_blank\">http://127.0.0.1:8787/status</a>\n",
       "                </td>\n",
       "                <td style=\"text-align: left;\"></td>\n",
       "            </tr>\n",
       "        \n",
       "\n",
       "        </table>\n",
       "\n",
       "        \n",
       "            <details>\n",
       "            <summary style=\"margin-bottom: 20px;\"><h3 style=\"display: inline;\">Cluster Info</h3></summary>\n",
       "            <div class=\"jp-RenderedHTMLCommon jp-RenderedHTML jp-mod-trusted jp-OutputArea-output\">\n",
       "    <div style=\"width: 24px; height: 24px; background-color: #e1e1e1; border: 3px solid #9D9D9D; border-radius: 5px; position: absolute;\">\n",
       "    </div>\n",
       "    <div style=\"margin-left: 48px;\">\n",
       "        <h3 style=\"margin-bottom: 0px; margin-top: 0px;\">LocalCluster</h3>\n",
       "        <p style=\"color: #9D9D9D; margin-bottom: 0px;\">8cd4eb69</p>\n",
       "        <table style=\"width: 100%; text-align: left;\">\n",
       "            <tr>\n",
       "                <td style=\"text-align: left;\">\n",
       "                    <strong>Dashboard:</strong> <a href=\"http://127.0.0.1:8787/status\" target=\"_blank\">http://127.0.0.1:8787/status</a>\n",
       "                </td>\n",
       "                <td style=\"text-align: left;\">\n",
       "                    <strong>Workers:</strong> 1\n",
       "                </td>\n",
       "            </tr>\n",
       "            <tr>\n",
       "                <td style=\"text-align: left;\">\n",
       "                    <strong>Total threads:</strong> 16\n",
       "                </td>\n",
       "                <td style=\"text-align: left;\">\n",
       "                    <strong>Total memory:</strong> 7.68 GiB\n",
       "                </td>\n",
       "            </tr>\n",
       "            \n",
       "            <tr>\n",
       "    <td style=\"text-align: left;\"><strong>Status:</strong> running</td>\n",
       "    <td style=\"text-align: left;\"><strong>Using processes:</strong> True</td>\n",
       "</tr>\n",
       "\n",
       "            \n",
       "        </table>\n",
       "\n",
       "        <details>\n",
       "            <summary style=\"margin-bottom: 20px;\">\n",
       "                <h3 style=\"display: inline;\">Scheduler Info</h3>\n",
       "            </summary>\n",
       "\n",
       "            <div style=\"\">\n",
       "    <div>\n",
       "        <div style=\"width: 24px; height: 24px; background-color: #FFF7E5; border: 3px solid #FF6132; border-radius: 5px; position: absolute;\"> </div>\n",
       "        <div style=\"margin-left: 48px;\">\n",
       "            <h3 style=\"margin-bottom: 0px;\">Scheduler</h3>\n",
       "            <p style=\"color: #9D9D9D; margin-bottom: 0px;\">Scheduler-57d5e2b6-c2c7-4d2a-9d94-d3dacfbb1211</p>\n",
       "            <table style=\"width: 100%; text-align: left;\">\n",
       "                <tr>\n",
       "                    <td style=\"text-align: left;\">\n",
       "                        <strong>Comm:</strong> tcp://127.0.0.1:39575\n",
       "                    </td>\n",
       "                    <td style=\"text-align: left;\">\n",
       "                        <strong>Workers:</strong> 1\n",
       "                    </td>\n",
       "                </tr>\n",
       "                <tr>\n",
       "                    <td style=\"text-align: left;\">\n",
       "                        <strong>Dashboard:</strong> <a href=\"http://127.0.0.1:8787/status\" target=\"_blank\">http://127.0.0.1:8787/status</a>\n",
       "                    </td>\n",
       "                    <td style=\"text-align: left;\">\n",
       "                        <strong>Total threads:</strong> 16\n",
       "                    </td>\n",
       "                </tr>\n",
       "                <tr>\n",
       "                    <td style=\"text-align: left;\">\n",
       "                        <strong>Started:</strong> Just now\n",
       "                    </td>\n",
       "                    <td style=\"text-align: left;\">\n",
       "                        <strong>Total memory:</strong> 7.68 GiB\n",
       "                    </td>\n",
       "                </tr>\n",
       "            </table>\n",
       "        </div>\n",
       "    </div>\n",
       "\n",
       "    <details style=\"margin-left: 48px;\">\n",
       "        <summary style=\"margin-bottom: 20px;\">\n",
       "            <h3 style=\"display: inline;\">Workers</h3>\n",
       "        </summary>\n",
       "\n",
       "        \n",
       "        <div style=\"margin-bottom: 20px;\">\n",
       "            <div style=\"width: 24px; height: 24px; background-color: #DBF5FF; border: 3px solid #4CC9FF; border-radius: 5px; position: absolute;\"> </div>\n",
       "            <div style=\"margin-left: 48px;\">\n",
       "            <details>\n",
       "                <summary>\n",
       "                    <h4 style=\"margin-bottom: 0px; display: inline;\">Worker: 0</h4>\n",
       "                </summary>\n",
       "                <table style=\"width: 100%; text-align: left;\">\n",
       "                    <tr>\n",
       "                        <td style=\"text-align: left;\">\n",
       "                            <strong>Comm: </strong> tcp://192.168.43.239:35633\n",
       "                        </td>\n",
       "                        <td style=\"text-align: left;\">\n",
       "                            <strong>Total threads: </strong> 16\n",
       "                        </td>\n",
       "                    </tr>\n",
       "                    <tr>\n",
       "                        <td style=\"text-align: left;\">\n",
       "                            <strong>Dashboard: </strong> <a href=\"http://192.168.43.239:43573/status\" target=\"_blank\">http://192.168.43.239:43573/status</a>\n",
       "                        </td>\n",
       "                        <td style=\"text-align: left;\">\n",
       "                            <strong>Memory: </strong> 7.68 GiB\n",
       "                        </td>\n",
       "                    </tr>\n",
       "                    <tr>\n",
       "                        <td style=\"text-align: left;\">\n",
       "                            <strong>Nanny: </strong> tcp://127.0.0.1:44393\n",
       "                        </td>\n",
       "                        <td style=\"text-align: left;\"></td>\n",
       "                    </tr>\n",
       "                    <tr>\n",
       "                        <td colspan=\"2\" style=\"text-align: left;\">\n",
       "                            <strong>Local directory: </strong> /home/red/workspaces/qiskit_python/dask_testings/dask-worker-space/worker-zde5hd30\n",
       "                        </td>\n",
       "                    </tr>\n",
       "\n",
       "                    \n",
       "\n",
       "                    \n",
       "\n",
       "                </table>\n",
       "            </details>\n",
       "            </div>\n",
       "        </div>\n",
       "        \n",
       "\n",
       "    </details>\n",
       "</div>\n",
       "\n",
       "        </details>\n",
       "    </div>\n",
       "</div>\n",
       "            </details>\n",
       "        \n",
       "\n",
       "    </div>\n",
       "</div>"
      ],
      "text/plain": [
       "<Client: 'tcp://127.0.0.1:39575' processes=1 threads=16, memory=7.68 GiB>"
      ]
     },
     "execution_count": 31,
     "metadata": {},
     "output_type": "execute_result"
    }
   ],
   "source": [
    "client_localcluster"
   ]
  },
  {
   "cell_type": "code",
   "execution_count": 32,
   "id": "637bbee7",
   "metadata": {},
   "outputs": [],
   "source": [
    "qbackend = Aer.get_backend('qasm_simulator')"
   ]
  },
  {
   "cell_type": "code",
   "execution_count": 33,
   "id": "6fa20de9",
   "metadata": {},
   "outputs": [],
   "source": [
    "from qiskit import execute"
   ]
  },
  {
   "cell_type": "code",
   "execution_count": 34,
   "id": "f554abc6",
   "metadata": {},
   "outputs": [],
   "source": [
    "result_ideal = execute(qc, qbackend, executor=client_localcluster).result()"
   ]
  },
  {
   "cell_type": "code",
   "execution_count": 35,
   "id": "22abcc7f",
   "metadata": {},
   "outputs": [],
   "source": [
    "counts=result.get_counts(qc[0])"
   ]
  },
  {
   "cell_type": "code",
   "execution_count": 36,
   "id": "7b4f26c6",
   "metadata": {},
   "outputs": [
    {
     "data": {
      "image/png": "[encoded data removed]",
      "text/plain": [
       "<Figure size 504x360 with 1 Axes>"
      ]
     },
     "execution_count": 36,
     "metadata": {},
     "output_type": "execute_result"
    }
   ],
   "source": [
    "plot_histogram(counts, title=\"Bell State counts\")"
   ]
  },
  {
   "cell_type": "code",
   "execution_count": 37,
   "id": "8c8f7a51",
   "metadata": {},
   "outputs": [],
   "source": [
    "local_cluster_1.close()"
   ]
  },
  {
   "cell_type": "code",
   "execution_count": 38,
   "id": "0ea11368",
   "metadata": {},
   "outputs": [],
   "source": [
    "client_localcluster.close()"
   ]
  },
  {
   "cell_type": "code",
   "execution_count": null,
   "id": "7c1264b9",
   "metadata": {},
   "outputs": [],
   "source": []
  },
  {
   "cell_type": "code",
   "execution_count": null,
   "id": "69345f05",
   "metadata": {},
   "outputs": [],
   "source": []
  },
  {
   "cell_type": "code",
   "execution_count": null,
   "id": "a7117367",
   "metadata": {},
   "outputs": [],
   "source": [
    "##################################################################################################"
   ]
  },
  {
   "cell_type": "code",
   "execution_count": null,
   "id": "5a5457a0",
   "metadata": {},
   "outputs": [],
   "source": []
  },
  {
   "cell_type": "code",
   "execution_count": 39,
   "id": "b6e4db80",
   "metadata": {},
   "outputs": [],
   "source": [
    "from dask.distributed import Client"
   ]
  },
  {
   "cell_type": "code",
   "execution_count": 40,
   "id": "d87bb6f2",
   "metadata": {},
   "outputs": [],
   "source": [
    "exc=Client(n_workers=2, threads_per_worker=1, memory_limit='500MB')"
   ]
  },
  {
   "cell_type": "code",
   "execution_count": 41,
   "id": "a72088e9",
   "metadata": {},
   "outputs": [],
   "source": [
    "qbackend = Aer.get_backend('qasm_simulator')"
   ]
  },
  {
   "cell_type": "code",
   "execution_count": 42,
   "id": "8c6b1c5f",
   "metadata": {},
   "outputs": [],
   "source": [
    "from qiskit import execute"
   ]
  },
  {
   "cell_type": "code",
   "execution_count": 43,
   "id": "f6196958",
   "metadata": {},
   "outputs": [],
   "source": [
    "result_ideal = execute(qc, qbackend, executor=exc).result()"
   ]
  },
  {
   "cell_type": "code",
   "execution_count": 44,
   "id": "1243d0ff",
   "metadata": {},
   "outputs": [],
   "source": [
    "counts=result.get_counts(qc[0])"
   ]
  },
  {
   "cell_type": "code",
   "execution_count": 45,
   "id": "49c520f4",
   "metadata": {},
   "outputs": [
    {
     "data": {
      "image/png": "[encoded data removed]",
      "text/plain": [
       "<Figure size 504x360 with 1 Axes>"
      ]
     },
     "execution_count": 45,
     "metadata": {},
     "output_type": "execute_result"
    }
   ],
   "source": [
    "plot_histogram(counts, title=\"Bell State counts\")"
   ]
  },
  {
   "cell_type": "code",
   "execution_count": 46,
   "id": "b466a4b1",
   "metadata": {},
   "outputs": [],
   "source": [
    "exc.close()"
   ]
  },
  {
   "cell_type": "code",
   "execution_count": null,
   "id": "ae93da49",
   "metadata": {},
   "outputs": [],
   "source": []
  },
  {
   "cell_type": "code",
   "execution_count": null,
   "id": "f2f93d93",
   "metadata": {},
   "outputs": [],
   "source": []
  }
 ],
 "metadata": {
  "kernelspec": {
   "display_name": "Python 3 (ipykernel)",
   "language": "python",
   "name": "python3"
  },
  "language_info": {
   "codemirror_mode": {
    "name": "ipython",
    "version": 3
   },
   "file_extension": ".py",
   "mimetype": "text/x-python",
   "name": "python",
   "nbconvert_exporter": "python",
   "pygments_lexer": "ipython3",
   "version": "3.9.7"
  }
 },
 "nbformat": 4,
 "nbformat_minor": 5
}
